{
 "cells": [
  {
   "cell_type": "code",
   "execution_count": 2,
   "id": "0ca25853-02b7-428a-923c-a7420b28e9eb",
   "metadata": {},
   "outputs": [
    {
     "name": "stderr",
     "output_type": "stream",
     "text": [
      "config.json: 100%|██████████| 866/866 [00:00<00:00, 6.18MB/s]\n",
      "model.safetensors.index.json: 100%|██████████| 35.7k/35.7k [00:00<00:00, 2.67MB/s]\n",
      "model-00001-of-00002.safetensors: 100%|██████████| 5.00G/5.00G [01:45<00:00, 47.5MB/s]\n",
      "model-00002-of-00002.safetensors: 100%|██████████| 564M/564M [00:11<00:00, 48.3MB/s]\n",
      "Downloading shards: 100%|██████████| 2/2 [02:02<00:00, 61.10s/it] \n",
      "Loading checkpoint shards: 100%|██████████| 2/2 [00:01<00:00,  1.89it/s]\n",
      "Some weights of the model checkpoint at microsoft/phi-2 were not used when initializing PhiForCausalLM: ['model.layers.5.self_attn.k_proj.weight', 'model.layers.2.self_attn.q_proj.weight', 'model.layers.22.self_attn.q_proj.bias', 'model.layers.17.self_attn.q_proj.bias', 'model.layers.26.self_attn.q_proj.bias', 'model.layers.25.self_attn.v_proj.weight', 'model.layers.18.self_attn.v_proj.weight', 'model.layers.7.self_attn.q_proj.bias', 'model.layers.14.self_attn.k_proj.weight', 'model.layers.31.self_attn.k_proj.bias', 'model.layers.17.self_attn.k_proj.bias', 'model.layers.12.self_attn.k_proj.weight', 'model.layers.26.self_attn.v_proj.weight', 'model.layers.3.self_attn.v_proj.weight', 'model.layers.26.self_attn.v_proj.bias', 'model.layers.15.self_attn.k_proj.weight', 'model.layers.6.self_attn.v_proj.bias', 'model.layers.11.self_attn.q_proj.bias', 'model.layers.20.self_attn.v_proj.bias', 'model.layers.8.self_attn.v_proj.weight', 'model.layers.29.self_attn.k_proj.bias', 'model.layers.2.self_attn.v_proj.bias', 'model.layers.8.self_attn.v_proj.bias', 'model.layers.28.self_attn.v_proj.weight', 'model.layers.9.self_attn.k_proj.weight', 'model.layers.11.self_attn.v_proj.weight', 'model.layers.29.self_attn.v_proj.weight', 'model.layers.21.self_attn.k_proj.bias', 'model.layers.16.self_attn.k_proj.weight', 'model.layers.15.self_attn.v_proj.bias', 'model.layers.20.self_attn.k_proj.bias', 'model.layers.11.self_attn.q_proj.weight', 'model.layers.3.self_attn.q_proj.bias', 'model.layers.14.self_attn.q_proj.bias', 'model.layers.18.self_attn.k_proj.weight', 'model.layers.30.self_attn.k_proj.bias', 'model.layers.8.self_attn.k_proj.bias', 'model.layers.28.self_attn.v_proj.bias', 'model.layers.30.self_attn.q_proj.bias', 'model.layers.18.self_attn.q_proj.bias', 'model.layers.9.self_attn.q_proj.weight', 'model.layers.16.self_attn.v_proj.bias', 'model.layers.5.self_attn.k_proj.bias', 'model.layers.23.self_attn.q_proj.weight', 'model.layers.13.self_attn.k_proj.bias', 'model.layers.30.self_attn.k_proj.weight', 'model.layers.3.self_attn.q_proj.weight', 'model.layers.2.self_attn.v_proj.weight', 'model.layers.24.self_attn.v_proj.bias', 'model.layers.6.self_attn.q_proj.bias', 'model.layers.24.self_attn.k_proj.bias', 'model.layers.9.self_attn.q_proj.bias', 'model.layers.18.self_attn.k_proj.bias', 'model.layers.3.self_attn.v_proj.bias', 'model.layers.11.self_attn.k_proj.bias', 'model.layers.21.self_attn.v_proj.bias', 'model.layers.25.self_attn.k_proj.weight', 'model.layers.13.self_attn.k_proj.weight', 'model.layers.15.self_attn.k_proj.bias', 'model.layers.17.self_attn.k_proj.weight', 'model.layers.0.self_attn.k_proj.weight', 'model.layers.31.self_attn.q_proj.weight', 'model.layers.12.self_attn.v_proj.weight', 'model.layers.6.self_attn.k_proj.weight', 'model.layers.31.self_attn.k_proj.weight', 'model.layers.22.self_attn.k_proj.bias', 'model.layers.27.self_attn.q_proj.weight', 'model.layers.19.self_attn.q_proj.bias', 'model.layers.25.self_attn.q_proj.weight', 'model.layers.26.self_attn.q_proj.weight', 'model.layers.30.self_attn.q_proj.weight', 'model.layers.5.self_attn.q_proj.bias', 'model.layers.17.self_attn.v_proj.bias', 'model.layers.12.self_attn.v_proj.bias', 'model.layers.24.self_attn.q_proj.weight', 'model.layers.9.self_attn.v_proj.weight', 'model.layers.26.self_attn.k_proj.bias', 'model.layers.18.self_attn.q_proj.weight', 'model.layers.7.self_attn.v_proj.weight', 'model.layers.0.self_attn.q_proj.bias', 'model.layers.2.self_attn.q_proj.bias', 'model.layers.12.self_attn.q_proj.bias', 'model.layers.8.self_attn.k_proj.weight', 'model.layers.18.self_attn.v_proj.bias', 'model.layers.21.self_attn.q_proj.bias', 'model.layers.31.self_attn.q_proj.bias', 'model.layers.0.self_attn.v_proj.weight', 'model.layers.15.self_attn.q_proj.bias', 'model.layers.13.self_attn.q_proj.bias', 'model.layers.25.self_attn.q_proj.bias', 'model.layers.7.self_attn.k_proj.bias', 'model.layers.15.self_attn.q_proj.weight', 'model.layers.22.self_attn.k_proj.weight', 'model.layers.5.self_attn.v_proj.weight', 'model.layers.17.self_attn.v_proj.weight', 'model.layers.6.self_attn.v_proj.weight', 'model.layers.22.self_attn.v_proj.weight', 'model.layers.31.self_attn.v_proj.bias', 'model.layers.8.self_attn.q_proj.bias', 'model.layers.19.self_attn.q_proj.weight', 'model.layers.10.self_attn.k_proj.weight', 'model.layers.19.self_attn.k_proj.weight', 'model.layers.11.self_attn.k_proj.weight', 'model.layers.2.self_attn.k_proj.bias', 'model.layers.10.self_attn.v_proj.weight', 'model.layers.4.self_attn.q_proj.bias', 'model.layers.4.self_attn.v_proj.bias', 'model.layers.24.self_attn.q_proj.bias', 'model.layers.3.self_attn.k_proj.weight', 'model.layers.31.self_attn.v_proj.weight', 'model.layers.28.self_attn.k_proj.bias', 'model.layers.2.self_attn.k_proj.weight', 'model.layers.21.self_attn.k_proj.weight', 'model.layers.19.self_attn.v_proj.weight', 'model.layers.10.self_attn.q_proj.bias', 'model.layers.0.self_attn.v_proj.bias', 'model.layers.27.self_attn.k_proj.bias', 'model.layers.21.self_attn.v_proj.weight', 'model.layers.10.self_attn.v_proj.bias', 'model.layers.29.self_attn.q_proj.weight', 'model.layers.29.self_attn.k_proj.weight', 'model.layers.23.self_attn.k_proj.bias', 'model.layers.1.self_attn.v_proj.weight', 'model.layers.10.self_attn.k_proj.bias', 'model.layers.15.self_attn.v_proj.weight', 'model.layers.8.self_attn.q_proj.weight', 'model.layers.1.self_attn.q_proj.bias', 'model.layers.10.self_attn.q_proj.weight', 'model.layers.5.self_attn.q_proj.weight', 'model.layers.27.self_attn.k_proj.weight', 'model.layers.14.self_attn.v_proj.weight', 'model.layers.1.self_attn.v_proj.bias', 'model.layers.4.self_attn.k_proj.bias', 'model.layers.24.self_attn.k_proj.weight', 'model.layers.6.self_attn.q_proj.weight', 'model.layers.14.self_attn.q_proj.weight', 'model.layers.9.self_attn.k_proj.bias', 'model.layers.1.self_attn.q_proj.weight', 'model.layers.28.self_attn.q_proj.bias', 'model.layers.0.self_attn.q_proj.weight', 'model.layers.22.self_attn.q_proj.weight', 'model.layers.7.self_attn.k_proj.weight', 'model.layers.19.self_attn.k_proj.bias', 'model.layers.25.self_attn.k_proj.bias', 'model.layers.20.self_attn.q_proj.bias', 'model.layers.20.self_attn.q_proj.weight', 'model.layers.25.self_attn.v_proj.bias', 'model.layers.27.self_attn.v_proj.bias', 'model.layers.17.self_attn.q_proj.weight', 'model.layers.23.self_attn.v_proj.weight', 'model.layers.20.self_attn.v_proj.weight', 'model.layers.1.self_attn.k_proj.bias', 'model.layers.12.self_attn.q_proj.weight', 'model.layers.13.self_attn.v_proj.weight', 'model.layers.21.self_attn.q_proj.weight', 'model.layers.7.self_attn.q_proj.weight', 'model.layers.11.self_attn.v_proj.bias', 'model.layers.16.self_attn.q_proj.weight', 'model.layers.6.self_attn.k_proj.bias', 'model.layers.29.self_attn.v_proj.bias', 'model.layers.3.self_attn.k_proj.bias', 'model.layers.4.self_attn.k_proj.weight', 'model.layers.29.self_attn.q_proj.bias', 'model.layers.16.self_attn.v_proj.weight', 'model.layers.1.self_attn.k_proj.weight', 'model.layers.30.self_attn.v_proj.bias', 'model.layers.14.self_attn.k_proj.bias', 'model.layers.23.self_attn.k_proj.weight', 'model.layers.22.self_attn.v_proj.bias', 'model.layers.30.self_attn.v_proj.weight', 'model.layers.19.self_attn.v_proj.bias', 'model.layers.5.self_attn.v_proj.bias', 'model.layers.16.self_attn.k_proj.bias', 'model.layers.26.self_attn.k_proj.weight', 'model.layers.27.self_attn.q_proj.bias', 'model.layers.4.self_attn.q_proj.weight', 'model.layers.28.self_attn.k_proj.weight', 'model.layers.24.self_attn.v_proj.weight', 'model.layers.23.self_attn.v_proj.bias', 'model.layers.7.self_attn.v_proj.bias', 'model.layers.12.self_attn.k_proj.bias', 'model.layers.13.self_attn.q_proj.weight', 'model.layers.28.self_attn.q_proj.weight', 'model.layers.4.self_attn.v_proj.weight', 'model.layers.14.self_attn.v_proj.bias', 'model.layers.13.self_attn.v_proj.bias', 'model.layers.27.self_attn.v_proj.weight', 'model.layers.0.self_attn.k_proj.bias', 'model.layers.23.self_attn.q_proj.bias', 'model.layers.16.self_attn.q_proj.bias', 'model.layers.9.self_attn.v_proj.bias', 'model.layers.20.self_attn.k_proj.weight']\n",
      "- This IS expected if you are initializing PhiForCausalLM from the checkpoint of a model trained on another task or with another architecture (e.g. initializing a BertForSequenceClassification model from a BertForPreTraining model).\n",
      "- This IS NOT expected if you are initializing PhiForCausalLM from the checkpoint of a model that you expect to be exactly identical (initializing a BertForSequenceClassification model from a BertForSequenceClassification model).\n",
      "Some weights of PhiForCausalLM were not initialized from the model checkpoint at microsoft/phi-2 and are newly initialized: ['model.layers.29.self_attn.query_key_value.bias', 'model.layers.3.self_attn.query_key_value.weight', 'model.layers.9.self_attn.query_key_value.weight', 'model.layers.25.self_attn.query_key_value.weight', 'model.layers.0.self_attn.query_key_value.weight', 'model.layers.4.self_attn.query_key_value.weight', 'model.layers.6.self_attn.query_key_value.bias', 'model.layers.14.self_attn.query_key_value.weight', 'model.layers.30.self_attn.query_key_value.weight', 'model.layers.10.self_attn.query_key_value.bias', 'model.layers.13.self_attn.query_key_value.weight', 'model.layers.20.self_attn.query_key_value.bias', 'model.layers.16.self_attn.query_key_value.weight', 'model.layers.6.self_attn.query_key_value.weight', 'model.layers.25.self_attn.query_key_value.bias', 'model.layers.7.self_attn.query_key_value.bias', 'model.layers.16.self_attn.query_key_value.bias', 'model.layers.23.self_attn.query_key_value.weight', 'model.layers.12.self_attn.query_key_value.weight', 'model.layers.17.self_attn.query_key_value.weight', 'model.layers.18.self_attn.query_key_value.bias', 'model.layers.1.self_attn.query_key_value.bias', 'model.layers.29.self_attn.query_key_value.weight', 'model.layers.19.self_attn.query_key_value.weight', 'model.layers.2.self_attn.query_key_value.weight', 'model.layers.21.self_attn.query_key_value.weight', 'model.layers.24.self_attn.query_key_value.weight', 'model.layers.11.self_attn.query_key_value.bias', 'model.layers.13.self_attn.query_key_value.bias', 'model.layers.27.self_attn.query_key_value.bias', 'model.layers.15.self_attn.query_key_value.weight', 'model.layers.10.self_attn.query_key_value.weight', 'model.layers.2.self_attn.query_key_value.bias', 'model.layers.24.self_attn.query_key_value.bias', 'model.layers.30.self_attn.query_key_value.bias', 'model.layers.12.self_attn.query_key_value.bias', 'model.layers.15.self_attn.query_key_value.bias', 'model.layers.1.self_attn.query_key_value.weight', 'model.layers.7.self_attn.query_key_value.weight', 'model.layers.14.self_attn.query_key_value.bias', 'model.layers.26.self_attn.query_key_value.weight', 'model.layers.31.self_attn.query_key_value.weight', 'model.layers.5.self_attn.query_key_value.bias', 'model.layers.4.self_attn.query_key_value.bias', 'model.layers.31.self_attn.query_key_value.bias', 'model.layers.19.self_attn.query_key_value.bias', 'model.layers.23.self_attn.query_key_value.bias', 'model.layers.20.self_attn.query_key_value.weight', 'model.layers.8.self_attn.query_key_value.bias', 'model.layers.22.self_attn.query_key_value.bias', 'model.layers.11.self_attn.query_key_value.weight', 'model.layers.28.self_attn.query_key_value.bias', 'model.layers.27.self_attn.query_key_value.weight', 'model.layers.26.self_attn.query_key_value.bias', 'model.layers.18.self_attn.query_key_value.weight', 'model.layers.5.self_attn.query_key_value.weight', 'model.layers.3.self_attn.query_key_value.bias', 'model.layers.0.self_attn.query_key_value.bias', 'model.layers.28.self_attn.query_key_value.weight', 'model.layers.8.self_attn.query_key_value.weight', 'model.layers.21.self_attn.query_key_value.bias', 'model.layers.22.self_attn.query_key_value.weight', 'model.layers.17.self_attn.query_key_value.bias', 'model.layers.9.self_attn.query_key_value.bias']\n",
      "You should probably TRAIN this model on a down-stream task to be able to use it for predictions and inference.\n",
      "generation_config.json: 100%|██████████| 74.0/74.0 [00:00<00:00, 604kB/s]\n",
      "tokenizer_config.json: 100%|██████████| 7.34k/7.34k [00:00<00:00, 29.0MB/s]\n",
      "vocab.json: 100%|██████████| 798k/798k [00:00<00:00, 25.4MB/s]\n",
      "merges.txt: 100%|██████████| 456k/456k [00:00<00:00, 12.6MB/s]\n",
      "tokenizer.json: 100%|██████████| 2.11M/2.11M [00:00<00:00, 25.0MB/s]\n",
      "added_tokens.json: 100%|██████████| 1.08k/1.08k [00:00<00:00, 7.96MB/s]\n",
      "special_tokens_map.json: 100%|██████████| 99.0/99.0 [00:00<00:00, 431kB/s]\n",
      "Special tokens have been added in the vocabulary, make sure the associated word embeddings are fine-tuned or trained.\n"
     ]
    },
    {
     "name": "stdout",
     "output_type": "stream",
     "text": [
      "Using device: cuda\n"
     ]
    }
   ],
   "source": [
    "# Cell 1: Import necessary libraries\n",
    "import torch\n",
    "from transformers import AutoModelForCausalLM, AutoTokenizer\n",
    "\n",
    "# Define the model checkpoint\n",
    "model_checkpoint = \"microsoft/phi-2\"  # Example checkpoint, replace with actual model\n",
    "\n",
    "# Load the pre-trained model and tokenizer\n",
    "model = AutoModelForCausalLM.from_pretrained(model_checkpoint)\n",
    "tokenizer = AutoTokenizer.from_pretrained(model_checkpoint)\n",
    "\n",
    "# Check if GPU is available and set the device accordingly\n",
    "device = torch.device(\"cuda\" if torch.cuda.is_available() else \"cpu\")\n",
    "model.to(device)\n",
    "print(f\"Using device: {device}\")"
   ]
  },
  {
   "cell_type": "code",
   "execution_count": 3,
   "id": "b48fcdf9-4df9-4a11-92af-5388cc2e86de",
   "metadata": {},
   "outputs": [],
   "source": [
    "# Cell 2: Define the Self-Play Fine-Tuning (SPIN) function[^1^][1]\n",
    "def self_play_fine_tuning(model, tokenizer, dataset, num_iterations=3, batch_size=1):\n",
    "    \"\"\"\n",
    "    Perform Self-Play Fine-Tuning (SPIN) on the given model.\n",
    "    \n",
    "    Args:\n",
    "        model: The pre-trained language model.\n",
    "        tokenizer: The tokenizer for the language model.\n",
    "        dataset: The dataset to use for fine-tuning, containing prompts and responses.\n",
    "        num_iterations: The number of self-play iterations to perform.\n",
    "        batch_size: The batch size for training.\n",
    "    \"\"\"\n",
    "    # Placeholder for the SPIN algorithm implementation\n",
    "    # This should include generating synthetic data, training the main player,\n",
    "    # and updating the opponent player as described in the paper[^2^][2].\n",
    "    pass  # Replace with actual implementation\n",
    "\n",
    "# Placeholder for the dataset\n",
    "# Replace with the actual dataset used for fine-tuning\n",
    "dataset = None\n",
    "\n",
    "# Example call to the self_play_fine_tuning function\n",
    "# self_play_fine_tuning(model, tokenizer, dataset)"
   ]
  },
  {
   "cell_type": "code",
   "execution_count": null,
   "id": "cbe518f6-df4e-4c43-add6-bfac0eb37c0a",
   "metadata": {},
   "outputs": [],
   "source": [
    "# Cell 3: Load the dataset\n",
    "import pandas as pd\n",
    "\n",
    "# Replace with the actual path to the dataset\n",
    "dataset_path = \"path/to/dataset.csv\"\n",
    "\n",
    "# Load the dataset into a Pandas DataFrame\n",
    "df = pd.read_csv(dataset_path)\n",
    "\n",
    "# Preview the first few rows of the dataset\n",
    "print(\"Dataset preview:\")\n",
    "print(df.head())"
   ]
  },
  {
   "cell_type": "code",
   "execution_count": null,
   "id": "b009b18f-0222-4db0-9aa1-e0d9728a4622",
   "metadata": {},
   "outputs": [],
   "source": [
    "# Cell 4: Prepare the data\n",
    "from transformers import TextDataset, DataCollatorForLanguageModeling\n",
    "\n",
    "# Tokenize the dataset\n",
    "def tokenize_function(examples):\n",
    "    return tokenizer(examples[\"text\"])\n",
    "\n",
    "tokenized_datasets = df.map(tokenize_function, batched=True)\n",
    "\n",
    "# Prepare the dataset for training\n",
    "train_dataset = tokenized_datasets[\"train\"]\n",
    "data_collator = DataCollatorForLanguageModeling(tokenizer=tokenizer, mlm=False)"
   ]
  },
  {
   "cell_type": "code",
   "execution_count": null,
   "id": "90d95a04-6dbd-4df2-9590-c3a451c8c604",
   "metadata": {},
   "outputs": [],
   "source": [
    "# Cell 5: Train the model\n",
    "from transformers import Trainer, TrainingArguments\n",
    "\n",
    "# Define the training arguments\n",
    "training_args = TrainingArguments(\n",
    "    output_dir=\"./results\",\n",
    "    evaluation_strategy=\"epoch\",\n",
    "    learning_rate=2e-5,\n",
    "    per_device_train_batch_size=1,\n",
    "    num_train_epochs=3,\n",
    "    weight_decay=0.01,\n",
    ")\n",
    "\n",
    "# Define the trainer\n",
    "trainer = Trainer(\n",
    "    model=model,\n",
    "    args=training_args,\n",
    "    train_dataset=train_dataset,\n",
    "    data_collator=data_collator,\n",
    ")\n",
    "\n",
    "# Train the model\n",
    "trainer.train()"
   ]
  },
  {
   "cell_type": "code",
   "execution_count": null,
   "id": "e4b3066b-cd25-451e-841e-fd50dd7e3b71",
   "metadata": {},
   "outputs": [],
   "source": [
    "# Cell 6: Evaluate the model\n",
    "import math\n",
    "import numpy as np\n",
    "from transformers import pipeline\n",
    "\n",
    "# Define the evaluation function\n",
    "def evaluate(model, tokenizer, text):\n",
    "    # Generate text using the model\n",
    "    generator = pipeline(\"text-generation\", model=model, tokenizer=tokenizer)\n",
    "    generated_text = generator(text, max_length=100, do_sample=True, temperature=0.7)\n",
    "\n",
    "    # Calculate the perplexity of the generated text\n",
    "    input_ids = tokenizer(text, return_tensors=\"pt\").input_ids.to(device)\n",
    "    with torch.no_grad():\n",
    "        outputs = model(input_ids=input_ids, labels=input_ids)\n",
    "        loss = outputs.loss\n",
    "    perplexity = math.exp(loss)\n",
    "\n",
    "    # Return the generated text and perplexity\n",
    "    return generated_text[0][\"generated_text\"], perplexity.item()\n",
    "\n",
    "# Evaluate the model on a sample text\n",
    "sample_text = \"The quick brown fox jumps over the lazy dog.\"\n",
    "generated_text, perplexity = evaluate(model, tokenizer, sample_text)\n",
    "\n",
    "# Print the generated text and perplexity\n",
    "print(\"Generated text:\")\n",
    "print(generated_text)\n",
    "print(f\"Perplexity: {np.round(perplexity, 2)}\")"
   ]
  }
 ],
 "metadata": {
  "kernelspec": {
   "display_name": "Python 3 (ipykernel)",
   "language": "python",
   "name": "python3"
  },
  "language_info": {
   "codemirror_mode": {
    "name": "ipython",
    "version": 3
   },
   "file_extension": ".py",
   "mimetype": "text/x-python",
   "name": "python",
   "nbconvert_exporter": "python",
   "pygments_lexer": "ipython3",
   "version": "3.11.7"
  }
 },
 "nbformat": 4,
 "nbformat_minor": 5
}
